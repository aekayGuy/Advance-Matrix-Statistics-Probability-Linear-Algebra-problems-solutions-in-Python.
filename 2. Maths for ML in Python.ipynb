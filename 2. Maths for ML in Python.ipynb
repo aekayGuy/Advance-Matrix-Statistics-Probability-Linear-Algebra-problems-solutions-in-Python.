{
 "cells": [
  {
   "cell_type": "markdown",
   "metadata": {
    "colab_type": "text",
    "id": "BurSaAFUzQf_"
   },
   "source": [
    "<h1>Python: without numpy or sklearn </h1>"
   ]
  },
  {
   "cell_type": "markdown",
   "metadata": {
    "colab_type": "text",
    "id": "R_M8ThqXzQgA"
   },
   "source": [
    "<h3> Q1: Given two matrices please print the product of those two matrices </h3>\n",
    "<pre>\n",
    "\n",
    "Ex 1: A   = [[1 3 4]\n",
    "             [2 5 7]\n",
    "             [5 9 6]]\n",
    "      B   = [[1 0 0]\n",
    "             [0 1 0]\n",
    "             [0 0 1]]\n",
    "      A*B = [[1 3 4]\n",
    "             [2 5 7]\n",
    "             [5 9 6]]\n",
    "\n",
    "     \n",
    "Ex 2: A   = [[1 2]\n",
    "             [3 4]]\n",
    "      B   = [[1 2 3 4 5]\n",
    "             [5 6 7 8 9]]\n",
    "      A*B = [[11 14 17 20 23]\n",
    "             [18 24 30 36 42]]\n",
    "             \n",
    "Ex 3: A   = [[1 2]\n",
    "             [3 4]]\n",
    "      B   = [[1 4]\n",
    "             [5 6]\n",
    "             [7 8]\n",
    "             [9 6]]\n",
    "      A*B =Not possible\n",
    "</pre>"
   ]
  },
  {
   "cell_type": "code",
   "execution_count": 1,
   "metadata": {},
   "outputs": [],
   "source": [
    "def matrix_mul(A, B):\n",
    "    '''\n",
    "    This function takes two Matrices and returns dot product of the Matrices.\n",
    "    '''\n",
    "    if len(A[0]) == len(B):\n",
    "        \n",
    "        product = []\n",
    "\n",
    "        sum_ = 0\n",
    "        for i in range(len(A)): \n",
    "            product.append([])\n",
    "            for k in range(len(B[0])):\n",
    "                for j in range(len(A[0])):\n",
    "                    a = A[i][j] * B[j][k]\n",
    "                    sum_ += a\n",
    "            \n",
    "                product[i].append(sum_)\n",
    "                if sum_ > 0:\n",
    "                    sum_ = 0\n",
    "        print(product)\n",
    "    else:\n",
    "        print('Matrix multiplication is not possible')"
   ]
  },
  {
   "cell_type": "code",
   "execution_count": 3,
   "metadata": {},
   "outputs": [
    {
     "name": "stdout",
     "output_type": "stream",
     "text": [
      "[[1, 3, 4], [2, 5, 7], [5, 9, 6]]\n"
     ]
    }
   ],
   "source": [
    "# TEST EXAMPLE - 1\n",
    "\n",
    "A   = [[1, 3, 4],\n",
    "       [2, 5, 7],\n",
    "       [5, 9 ,6]]\n",
    "B   = [[1, 0, 0],\n",
    "       [0, 1, 0],\n",
    "       [0, 0, 1]]\n",
    "matrix_mul(A, B)"
   ]
  },
  {
   "cell_type": "code",
   "execution_count": 4,
   "metadata": {},
   "outputs": [
    {
     "name": "stdout",
     "output_type": "stream",
     "text": [
      "[[11, 14, 17, 20, 23], [23, 30, 37, 44, 51]]\n"
     ]
    }
   ],
   "source": [
    "# TEST EXAMPLE - 2\n",
    "\n",
    "A   = [[1, 2],\n",
    "       [3, 4]]\n",
    "B   = [[1, 2, 3, 4, 5],\n",
    "       [5, 6, 7, 8, 9]]\n",
    "matrix_mul(A, B)"
   ]
  },
  {
   "cell_type": "code",
   "execution_count": 5,
   "metadata": {},
   "outputs": [
    {
     "name": "stdout",
     "output_type": "stream",
     "text": [
      "[[11, 14, 17, 20, 23], [23, 30, 37, 44, 51], [35, 46, 57, 68, 79]]\n"
     ]
    }
   ],
   "source": [
    "# TEST EXAMPLE - 3\n",
    "\n",
    "A   = [[1, 2],\n",
    "       [3, 4],\n",
    "      [5,6]]\n",
    "B   = [[1, 2, 3, 4, 5],\n",
    "       [5, 6, 7, 8, 9]]\n",
    "matrix_mul(A, B)"
   ]
  },
  {
   "cell_type": "code",
   "execution_count": 6,
   "metadata": {},
   "outputs": [
    {
     "name": "stdout",
     "output_type": "stream",
     "text": [
      "Matrix multiplication is not possible\n"
     ]
    }
   ],
   "source": [
    "# TEST EXAMPLE - 4\n",
    "\n",
    "A   = [[1, 2],\n",
    "       [3, 4]]\n",
    "B   = [[1, 4],\n",
    "       [5, 6],\n",
    "       [7, 8],\n",
    "       [9, 6]]\n",
    "matrix_mul(A, B)"
   ]
  },
  {
   "cell_type": "markdown",
   "metadata": {
    "colab_type": "text",
    "id": "2ZMnHrwNzQgD"
   },
   "source": [
    "<h3> Q2: Select a number randomly with probability proportional to its magnitude from the given array of n elements</h3>\n",
    "\n",
    "consider an experiment, selecting an element from the list A randomly with probability proportional to its magnitude.\n",
    "assume we are doing the same experiment for 100 times with replacement, in each experiment you will print a number that is selected randomly from A.\n",
    "\n",
    "<pre>\n",
    "Ex 1: A = [0 5 27 6 13 28 100 45 10 79]\n",
    "let f(x) denote the number of times x getting selected in 100 experiments.\n",
    "f(100) > f(79) > f(45) > f(28) > f(27) > f(13) > f(10) > f(6) > f(5) > f(0)\n",
    "</pre>"
   ]
  },
  {
   "cell_type": "code",
   "execution_count": 16,
   "metadata": {
    "colab": {
     "base_uri": "https://localhost:8080/",
     "height": 313
    },
    "colab_type": "code",
    "executionInfo": {
     "elapsed": 1064,
     "status": "error",
     "timestamp": 1561186084915,
     "user": {
      "displayName": "Applied AI Course",
      "photoUrl": "https://lh5.googleusercontent.com/-9_3A9F-kDXs/AAAAAAAAAAI/AAAAAAAAACw/IprjYvUuoXQ/s64/photo.jpg",
      "userId": "00484516897554883881"
     },
     "user_tz": -330
    },
    "id": "Qh4J8ifYzQgD",
    "outputId": "72ed3154-1f9a-4500-881c-facf8957b9c6",
    "scrolled": false
   },
   "outputs": [
    {
     "name": "stdout",
     "output_type": "stream",
     "text": [
      "Given list of numbers - [0, 5, 27, 6, 13, 28, 100, 45, 10, 79] \n",
      "\n",
      "Sorted list of numbers - [0, 5, 6, 10, 13, 27, 28, 45, 79, 100] \n",
      "\n",
      "Sum - 313 \n",
      "\n",
      "Probability of each no. to get selected as an outcome - \n",
      " [0.0, 0.01597444089456869, 0.019169329073482427, 0.03194888178913738, 0.04153354632587859, 0.08626198083067092, 0.08945686900958466, 0.14376996805111822, 0.2523961661341853, 0.3194888178913738] \n",
      "\n",
      "Cumulative Sum - [0.0, 0.01597444089456869, 0.03514376996805112, 0.0670926517571885, 0.10862619808306709, 0.194888178913738, 0.28434504792332266, 0.4281150159744409, 0.6805111821086263, 1.0] \n",
      "\n",
      "final list - [27, 100, 45, 45, 100, 100, 45, 45, 27, 100, 79, 45, 27, 45, 79, 79, 100, 45, 79, 45, 79, 100, 79, 100, 79, 79, 100, 100, 45, 79, 100, 100, 79, 79, 79, 45, 27, 79, 10, 5, 100, 27, 100, 100, 79, 100, 28, 45, 27, 100, 79, 79, 6, 100, 79, 100, 79, 79, 100, 100, 100, 100, 28, 13, 27, 79, 79, 6, 79, 45, 100, 45, 79, 100, 79, 100, 79, 28, 100, 100, 100, 10, 5, 79, 100, 100, 28, 13, 79, 100, 100, 79, 13, 79, 45, 79, 27, 45, 100, 13] \n",
      "\n",
      "**f(x) denotes the number of times x getting selected in 100 experiments.**\n",
      "x =  0 , f(x) = 0\n",
      "x =  5 , f(x) = 2\n",
      "x =  6 , f(x) = 2\n",
      "x =  10 , f(x) = 2\n",
      "x =  13 , f(x) = 4\n",
      "x =  27 , f(x) = 8\n",
      "x =  28 , f(x) = 4\n",
      "x =  45 , f(x) = 15\n",
      "x =  79 , f(x) = 30\n",
      "x =  100 , f(x) = 33\n",
      "\n",
      "Observations -\n",
      "1.'Probability of each no. to get selected' is approximately eqaual to the 'actual no. of times each no.get selected.'\n",
      "2. Hence, experiment is done succesfully.\n"
     ]
    }
   ],
   "source": [
    "from random import uniform\n",
    "import numpy as np\n",
    "\n",
    "final_list = []\n",
    "z = 0\n",
    "\n",
    "# step 1- Generating random uniform numbers      \n",
    "A = [0, 5, 27, 6, 13, 28, 100, 45, 10, 79]            # A = np.random.randint(0,100,10)\n",
    "print('Given list of numbers -',A, '\\n')\n",
    "\n",
    "# step 2- Sorting generate uniform random numbers\n",
    "sorted_A = sorted(A)\n",
    "print('Sorted list of numbers -',sorted_A, '\\n')\n",
    "\n",
    "\n",
    "# step 3- normalizing each number - (number/sum of total no.s)\n",
    "A_sum = sum(A)\n",
    "print('Sum -', A_sum,'\\n')\n",
    "prob = []\n",
    "for ele in sorted_A:\n",
    "    prob.append(ele/A_sum)\n",
    "print('Probability of each no. to get selected as an outcome -','\\n',prob,'\\n')\n",
    "\n",
    "        \n",
    "# step 4- Taking cumulative sum of the normalized values\n",
    "cumsum = []\n",
    "cumsum_ = 0\n",
    "for i in prob:\n",
    "    cumsum_ += i\n",
    "    cumsum.append(cumsum_)\n",
    "print('Cumulative Sum -', cumsum,'\\n')\n",
    "        \n",
    "while z < 100:\n",
    "    new_list = []\n",
    "    \n",
    "    # step 5- performing experiment 100 times\n",
    "    B = np.random.rand()\n",
    "    for num in range(10):        \n",
    "        if B <= cumsum[num]:\n",
    "            new_list.append(sorted_A[num])\n",
    "            \n",
    "    final_list.append(new_list[0])\n",
    "    z += 1\n",
    "    \n",
    "print('final list -',final_list, '\\n')\n",
    "\n",
    "print('**f(x) denotes the number of times x getting selected in {} experiments.**'.format(z))\n",
    "for e in range(len(A)):\n",
    "    print('x = ',sorted_A[e],', f(x) =',final_list.count(sorted_A[e]))\n",
    "\n",
    "print(\"\\nObservations -\\n1.'Probability of each no. to get selected' is approximately eqaual to the 'actual no. of times each no.get selected.'\\n2. Hence, experiment is done succesfully.\")"
   ]
  },
  {
   "cell_type": "markdown",
   "metadata": {},
   "source": [
    "**If you want me to write a function instead of whole program, It's easily possible. From AAIC i learnt elegancy of code and output is crucial, Hence i provided detailed step by step analysis in the output as well.**"
   ]
  },
  {
   "cell_type": "markdown",
   "metadata": {
    "colab_type": "text",
    "id": "e323QFvPzQgF"
   },
   "source": [
    "<h3> Q3: Replace the digits in the string with #</h3>\n",
    "\n",
    "Consider a string that will have digits in that, we need to remove all the characters which are not digits and replace the digits with #\n",
    "<pre>\n",
    "Ex 1: A = 234                Output: ###\n",
    "Ex 2: A = a2b3c4             Output: ###\n",
    "Ex 3: A = abc                Output: (empty string)\n",
    "Ex 5: A = #2a$#b%c%561#      Output: ####\n",
    "</pre>"
   ]
  },
  {
   "cell_type": "code",
   "execution_count": 9,
   "metadata": {
    "colab": {},
    "colab_type": "code",
    "id": "Ng2BGL2wzQgF"
   },
   "outputs": [],
   "source": [
    "def replace_digits(A):\n",
    "    \n",
    "    A = str(A)\n",
    "    empty_str = True\n",
    "\n",
    "    for i in  A:\n",
    "        for j in range(10):\n",
    "            if i  == str(j):\n",
    "                empty_str = False\n",
    "                print('#',end ='')\n",
    "            \n",
    "    if empty_str == True:\n",
    "        print('(empty string)')"
   ]
  },
  {
   "cell_type": "code",
   "execution_count": 10,
   "metadata": {},
   "outputs": [],
   "source": [
    "# using regular epression\n",
    "def replace_digits_re(A):\n",
    "    import re\n",
    "    r1 = re.findall('\\d', A)\n",
    "    empty_str = True\n",
    "\n",
    "    for i in  r1:\n",
    "        for j in range(10):\n",
    "            if i  == str(j) :\n",
    "                empty_str = False\n",
    "                print('#', end ='')\n",
    "            \n",
    "    if empty_str == True:\n",
    "        print('(empty string)')"
   ]
  },
  {
   "cell_type": "code",
   "execution_count": 11,
   "metadata": {},
   "outputs": [
    {
     "name": "stdout",
     "output_type": "stream",
     "text": [
      "###"
     ]
    }
   ],
   "source": [
    "A = '234'\n",
    "replace_digits(A)"
   ]
  },
  {
   "cell_type": "code",
   "execution_count": 12,
   "metadata": {},
   "outputs": [
    {
     "name": "stdout",
     "output_type": "stream",
     "text": [
      "###"
     ]
    }
   ],
   "source": [
    "A = 'a2b3c4'\n",
    "replace_digits(A)"
   ]
  },
  {
   "cell_type": "code",
   "execution_count": 13,
   "metadata": {},
   "outputs": [
    {
     "name": "stdout",
     "output_type": "stream",
     "text": [
      "(empty string)\n"
     ]
    }
   ],
   "source": [
    "A = 'abc'\n",
    "replace_digits(A)"
   ]
  },
  {
   "cell_type": "code",
   "execution_count": 369,
   "metadata": {},
   "outputs": [
    {
     "name": "stdout",
     "output_type": "stream",
     "text": [
      "####"
     ]
    }
   ],
   "source": [
    "A = '#2a$#b%c%561#'\n",
    "replace_digits(A)"
   ]
  },
  {
   "cell_type": "markdown",
   "metadata": {
    "colab_type": "text",
    "id": "VodlThpgzQgH"
   },
   "source": [
    "<h3> Q4: Students marks dashboard</h3>\n",
    "\n",
    "Consider the marks list of class students given in two lists <br>\n",
    "Students = ['student1','student2','student3','student4','student5','student6','student7','student8','student9','student10'] <br>\n",
    "Marks = [45, 78, 12, 14, 48, 43, 45, 98, 35, 80] <br>\n",
    "from the above two lists the Student[0] got Marks[0],  Student[1] got Marks[1] and so on. <br><br>\n",
    "\n",
    "Your task is to print the name of students\n",
    "\n",
    "<strong>a. Who got top 5 ranks, in the descending order of marks</strong> <br>\n",
    "<strong>b. Who got least 5 ranks, in the increasing order of marks</strong><br>\n",
    "<strong>d. Who got marks between  &gt;25th percentile &lt;75th percentile, in the increasing order of marks.</strong>\n",
    "\n",
    "<pre>\n",
    "Ex 1: \n",
    "Students=['student1','student2','student3','student4','student5','student6','student7','student8','student9','student10'] \n",
    "Marks = [45, 78, 12, 14, 48, 43, 47, 98, 35, 80]\n",
    "\n",
    "a. \n",
    "student8  98\n",
    "student10 80\n",
    "student2  78\n",
    "student5  48\n",
    "student7  47\n",
    "\n",
    "b.\n",
    "student3 12\n",
    "student4 14\n",
    "student9 35\n",
    "student6 43\n",
    "student1 45\n",
    "\n",
    "c.\n",
    "student9 35\n",
    "student6 43\n",
    "student1 45\n",
    "student7 47\n",
    "student5 48\n",
    "</pre>"
   ]
  },
  {
   "cell_type": "markdown",
   "metadata": {},
   "source": [
    "# Adding percentile column without rank() function -"
   ]
  },
  {
   "cell_type": "code",
   "execution_count": 149,
   "metadata": {},
   "outputs": [],
   "source": [
    "def display_dash_board(students, marks):\n",
    "    import pandas as pd\n",
    "    \n",
    "    df_1 = pd.DataFrame(students)\n",
    "    df_2 = pd.DataFrame(marks)\n",
    "    df = pd.concat([df_1, df_2], axis=1)\n",
    "    print('***Students-Marks table*** \\n',df, '\\n')\n",
    "\n",
    "    # 1. Who got top 5 ranks, in the descending order of marks \n",
    "    top_5 = df.sort_values(by = 'Marks', ascending=False)\n",
    "    print('***Top five rankers*** \\n', top_5[0:5], '\\n')\n",
    "\n",
    "    # 2. Who got least 5 ranks, in the increasing order of marks\n",
    "    least_5 = df.sort_values(by = 'Marks', ascending=True)\n",
    "    print('***Least five rankers*** \\n',least_5[0:5], '\\n')\n",
    "\n",
    "    # 3. Who got marks between >25th percentile <75th percentile, in the increasing order of marks.\n",
    "    df_sort = df\n",
    "    df_sort.sort_values(['Marks'], inplace = True)\n",
    "\n",
    "    lst = []\n",
    "    rows = df_sort['Marks'].count()\n",
    "    for i in (range(1,int(100/rows)+1)):\n",
    "        lst.append(i)\n",
    "\n",
    "    df_sort = df_sort.reset_index()\n",
    "\n",
    "    # Concatination is done in pandas according to indices, Hence reseting index is important, otherwise concat will not work desirable.\n",
    "    a = pd.concat([df_sort, pd.DataFrame({'percentile_ranks': lst})], axis = 1)\n",
    "\n",
    "    df_25to_75 = a[a['percentile_ranks'] < 10*0.75][a['percentile_ranks'] > 10*0.25]   # Enter percentile range here\n",
    "    print('***Range >25th percentile <75th percentile*** \\n')\n",
    "    print(df_25to_75)\n",
    "    # Dropping index column is easy using df_25to_75.drop()\n",
    "    \n",
    "    import warnings \n",
    "    warnings.filterwarnings(\"ignore\") "
   ]
  },
  {
   "cell_type": "code",
   "execution_count": 150,
   "metadata": {},
   "outputs": [
    {
     "name": "stdout",
     "output_type": "stream",
     "text": [
      "***Students-Marks table*** \n",
      "     Students  Marks\n",
      "0   student1     45\n",
      "1   student2     78\n",
      "2   student3     12\n",
      "3   student4     14\n",
      "4   student5     48\n",
      "5   student6     43\n",
      "6   student7     47\n",
      "7   student8     98\n",
      "8   student9     35\n",
      "9  student10     80 \n",
      "\n",
      "***Top five rankers*** \n",
      "     Students  Marks\n",
      "7   student8     98\n",
      "9  student10     80\n",
      "1   student2     78\n",
      "4   student5     48\n",
      "6   student7     47 \n",
      "\n",
      "***Least five rankers*** \n",
      "    Students  Marks\n",
      "2  student3     12\n",
      "3  student4     14\n",
      "8  student9     35\n",
      "5  student6     43\n",
      "0  student1     45 \n",
      "\n",
      "***Range >25th percentile <75th percentile*** \n",
      "\n",
      "   index  Students  Marks  percentile_ranks\n",
      "2      8  student9     35                 3\n",
      "3      5  student6     43                 4\n",
      "4      0  student1     45                 5\n",
      "5      6  student7     47                 6\n",
      "6      4  student5     48                 7\n"
     ]
    }
   ],
   "source": [
    "students = {'Students' : ['student1','student2','student3','student4','student5','student6','student7','student8','student9','student10']}\n",
    "marks = {'Marks' : [45, 78, 12, 14, 48, 43, 47, 98, 35, 80]}\n",
    "\n",
    "display_dash_board(students, marks)"
   ]
  },
  {
   "cell_type": "code",
   "execution_count": 140,
   "metadata": {},
   "outputs": [],
   "source": [
    "def display_dash_board(students, marks):\n",
    "    import pandas as pd\n",
    "    \n",
    "    df_1 = pd.DataFrame(students)\n",
    "    df_2 = pd.DataFrame(marks)\n",
    "    df = pd.concat([df_1, df_2], axis=1)\n",
    "    print('***Students-Marks table*** \\n',df, '\\n')\n",
    "\n",
    "    # 1. Who got top 5 ranks, in the descending order of marks \n",
    "    top_5 = df.sort_values(by = 'Marks', ascending=False)\n",
    "    print('***Top five rankers*** \\n', top_5[0:5], '\\n')\n",
    "\n",
    "    # 2. Who got least 5 ranks, in the increasing order of marks\n",
    "    least_5 = df.sort_values(by = 'Marks', ascending=True)\n",
    "    print('***Least five rankers*** \\n',least_5[0:5], '\\n')\n",
    "\n",
    "    # 3. Who got marks between >25th percentile <75th percentile, in the increasing order of marks.\n",
    "    df['percentile_ranks'] = df['Marks'].rank(pct=True)\n",
    "    df_25to_75 = df[df['percentile_ranks'] < 0.75][df['percentile_ranks'] > 0.25]\n",
    "    print('***Range >25th percentile <75th percentile*** \\n')\n",
    "    print(df_25to_75.sort_values(by = 'Marks', ascending = True))\n",
    "\n",
    "    # I found rank function on - http://www.datasciencemadesimple.com/percentile-rank-column-pandas-python-2/\n",
    "    # tried .quantile(), but didnt work well\n",
    "    import warnings \n",
    "    warnings.filterwarnings(\"ignore\") "
   ]
  },
  {
   "cell_type": "code",
   "execution_count": 141,
   "metadata": {
    "scrolled": false
   },
   "outputs": [
    {
     "name": "stdout",
     "output_type": "stream",
     "text": [
      "***Students-Marks table*** \n",
      "     Students  Marks\n",
      "0   student1     45\n",
      "1   student2     78\n",
      "2   student3     12\n",
      "3   student4     14\n",
      "4   student5     48\n",
      "5   student6     43\n",
      "6   student7     47\n",
      "7   student8     98\n",
      "8   student9     35\n",
      "9  student10     80 \n",
      "\n",
      "***Top five rankers*** \n",
      "     Students  Marks\n",
      "7   student8     98\n",
      "9  student10     80\n",
      "1   student2     78\n",
      "4   student5     48\n",
      "6   student7     47 \n",
      "\n",
      "***Least five rankers*** \n",
      "    Students  Marks\n",
      "2  student3     12\n",
      "3  student4     14\n",
      "8  student9     35\n",
      "5  student6     43\n",
      "0  student1     45 \n",
      "\n",
      "***Range >25th percentile <75th percentile*** \n",
      "\n",
      "   Students  Marks  percentile_ranks\n",
      "8  student9     35               0.3\n",
      "5  student6     43               0.4\n",
      "0  student1     45               0.5\n",
      "6  student7     47               0.6\n",
      "4  student5     48               0.7\n"
     ]
    }
   ],
   "source": [
    "students = {'Students' : ['student1','student2','student3','student4','student5','student6','student7','student8','student9','student10']}\n",
    "marks = {'Marks' : [45, 78, 12, 14, 48, 43, 47, 98, 35, 80]}\n",
    "\n",
    "display_dash_board(students, marks)"
   ]
  },
  {
   "cell_type": "markdown",
   "metadata": {
    "colab_type": "text",
    "id": "I32BmjOGzQgJ"
   },
   "source": [
    "<h3> Q5: Find the closest points</h3>\n",
    "\n",
    "Consider you are given n data points in the form of list of tuples like S=[(x1,y1),(x2,y2),(x3,y3),(x4,y4),(x5,y5),..,(xn,yn)] and a point P=(p,q) <br> your task is to find 5 closest points(based on cosine distance) in S from P\n",
    "\n",
    "<br>Cosine distance between two points (x,y) and (p,q) is defined as $cos^{-1}(\\frac{(x\\cdot p+y\\cdot q)}{\\sqrt(x^2+y^2)\\cdot\\sqrt(p^2+q^2)})$\n",
    "<pre>\n",
    "Ex:\n",
    "\n",
    "S= [(1,2),(3,4),(-1,1),(6,-7),(0, 6),(-5,-8),(-1,-1)(6,0),(1,-1)]\n",
    "P= (3,-4)\n",
    "<img src='https://i.imgur.com/vIFPOcG.jpg', width=300>\n",
    "Output:\n",
    "(6,-7)\n",
    "(1,-1)\n",
    "(6,0)\n",
    "(-5,-8)\n",
    "(-1,-1)\n",
    "</pre>"
   ]
  },
  {
   "cell_type": "code",
   "execution_count": 25,
   "metadata": {},
   "outputs": [],
   "source": [
    "def closest_points_to_p(S, P):    \n",
    "    import math\n",
    "    import numpy as np\n",
    "    \n",
    "\n",
    "    p = P[0]\n",
    "    q = P[1]\n",
    "    x = 0\n",
    "    y = 1\n",
    "\n",
    "    lst = []\n",
    "\n",
    "    for k in range(len(S)):\n",
    "        print('Distance from {} to {} is = '.format(S[k], P))\n",
    "        a = np.arccos(((S[k][x]*p) + (S[k][y]*q)) / ((math.sqrt(((S[k][x]**2) + S[k][y]**2))) * (math.sqrt((p**2) + (q**2)))))\n",
    "        print(a, '\\n')\n",
    "        lst.append(a)\n",
    "    print('List of cosine distances :',lst, '\\n')\n",
    "\n",
    "    df = pd.DataFrame({'points' : S, 'd from p':lst})\n",
    "    nearest_5 = df.sort_values(by = 'd from p', ascending = True).head(5)\n",
    "    print('5 Nearest points from given point P : \\n', nearest_5)\n",
    "    \n",
    "    # If you want me to return 5 points - Its very easy\n",
    "    # print(nearest_5['points'])"
   ]
  },
  {
   "cell_type": "code",
   "execution_count": 26,
   "metadata": {},
   "outputs": [
    {
     "name": "stdout",
     "output_type": "stream",
     "text": [
      "Distance from (1, 2) to (3, -4) is = \n",
      "2.0344439357957027 \n",
      "\n",
      "Distance from (3, 4) to (3, -4) is = \n",
      "1.8545904360032246 \n",
      "\n",
      "Distance from (-1, 1) to (3, -4) is = \n",
      "2.9996955989856287 \n",
      "\n",
      "Distance from (6, -7) to (3, -4) is = \n",
      "0.06512516333438509 \n",
      "\n",
      "Distance from (0, 6) to (3, -4) is = \n",
      "2.498091544796509 \n",
      "\n",
      "Distance from (-5, -8) to (3, -4) is = \n",
      "1.2021004241368467 \n",
      "\n",
      "Distance from (-1, -1) to (3, -4) is = \n",
      "1.4288992721907328 \n",
      "\n",
      "Distance from (6, 0) to (3, -4) is = \n",
      "0.9272952180016123 \n",
      "\n",
      "Distance from (1, -1) to (3, -4) is = \n",
      "0.14189705460416438 \n",
      "\n",
      "List of cosine distances : [2.0344439357957027, 1.8545904360032246, 2.9996955989856287, 0.06512516333438509, 2.498091544796509, 1.2021004241368467, 1.4288992721907328, 0.9272952180016123, 0.14189705460416438] \n",
      "\n",
      "5 Nearest points from given point P : \n",
      "      points  d from p\n",
      "3   (6, -7)  0.065125\n",
      "8   (1, -1)  0.141897\n",
      "7    (6, 0)  0.927295\n",
      "5  (-5, -8)  1.202100\n",
      "6  (-1, -1)  1.428899\n"
     ]
    }
   ],
   "source": [
    "S= [(1,2),(3,4),(-1,1),(6,-7),(0, 6),(-5,-8),(-1,-1),(6,0),(1,-1)]\n",
    "P= (3,-4)\n",
    "closest_points_to_p(S, P)"
   ]
  },
  {
   "cell_type": "markdown",
   "metadata": {
    "colab_type": "text",
    "id": "v6gI7N5tzQgL"
   },
   "source": [
    "<h3> Q6: Find which line separates oranges and apples</h3>\n",
    "\n",
    "Consider you are given two set of data points in the form of list of tuples like \n",
    "<pre>\n",
    "Red =[(R11,R12),(R21,R22),(R31,R32),(R41,R42),(R51,R52),..,(Rn1,Rn2)]\n",
    "Blue=[(B11,B12),(B21,B22),(B31,B32),(B41,B42),(B51,B52),..,(Bm1,Bm2)]\n",
    "</pre>\n",
    "and set of line equations(in the string format, i.e list of strings)\n",
    "<pre>\n",
    "Lines = [a1x+b1y+c1,a2x+b2y+c2,a3x+b3y+c3,a4x+b4y+c4,..,K lines]\n",
    "Note: You need to do string parsing here and get the coefficients of x,y and intercept.\n",
    "</pre>\n",
    "Your task here is to print \"YES\"/\"NO\" for each line given. You should print YES, if all the red points are one side of the line and blue points are on other side of the line, otherwise you should print NO.\n",
    "<pre>\n",
    "Ex:\n",
    "Red= [(1,1),(2,1),(4,2),(2,4), (-1,4)]\n",
    "Blue= [(-2,-1),(-1,-2),(-3,-2),(-3,-1),(1,-3)]\n",
    "Lines=[\"1x+1y+0\",\"1x-1y+0\",\"1x+0y-3\",\"0x+1y-0.5\"]\n",
    "<img src='https://i.imgur.com/DoQf7mE.jpg' width=400>\n",
    "Output:\n",
    "YES\n",
    "NO\n",
    "NO\n",
    "YES\n",
    "</pre>"
   ]
  },
  {
   "cell_type": "code",
   "execution_count": 29,
   "metadata": {
    "colab": {},
    "colab_type": "code",
    "id": "RN_X34WtzQgM"
   },
   "outputs": [],
   "source": [
    "# Function for detail analysis\n",
    "\n",
    "def i_am_the_one(Red,Blue,Lines):\n",
    "    '''\n",
    "    This function returns detail analysis and simulation of provided lines either classifying or non-classifying line.\n",
    "    '''\n",
    "\n",
    "    r_x = []\n",
    "    r_y = []\n",
    "    for j in range(len(Red)):\n",
    "        r_x.append(Red[j][0])\n",
    "        r_y.append(Red[j][1])\n",
    "    \n",
    "    print('r_x = ',r_x)\n",
    "    print('r_y = ',r_y, '\\n')\n",
    "\n",
    "    b_x = []\n",
    "    b_y = []\n",
    "    for j in range(len(Blue)):\n",
    "        b_x.append(Blue[j][0])\n",
    "        b_y.append(Blue[j][1])\n",
    "    \n",
    "    print('b_x = ',b_x)\n",
    "    print('b_y = ',b_y,'\\n')\n",
    "\n",
    "    a = []\n",
    "    for num in r_x:\n",
    "        a.append(num)\n",
    "    for num in r_y:\n",
    "        a.append(num)\n",
    "    for num in b_x:\n",
    "        a.append(num)\n",
    "    for num in b_y:\n",
    "        a.append(num)\n",
    "    max_ = max(a)\n",
    "    min_ = min(a)\n",
    "\n",
    "    l_x = []\n",
    "    for x in range(min_-2,max_+2):\n",
    "        l_x.append(x)\n",
    "    print('l_x = ',l_x)\n",
    "\n",
    "    lst = []\n",
    "    import re\n",
    "    for i in range(len(Lines)):        \n",
    "        r1 = re.findall(r\"[+-]?\\d\\.?\\d?\",Lines[i])      # I learnt regex from : https://www.youtube.com/watch?v=sa-TUpSx1JA\n",
    "        lst.append(r1)\n",
    "    print('a,b,c values = ',lst)\n",
    "\n",
    "# ***************************************************** #\n",
    "\n",
    "\n",
    "    for i in range(len(lst)):\n",
    "        print(\"\\n******Computing classifier line for LINE_{} -'{}' ******\".format(i+1, Lines[i]))\n",
    "        l_y = []\n",
    "        a = float(lst[i][0])\n",
    "        b = float(lst[i][1])\n",
    "        c = float(lst[i][2])\n",
    "        if b == 0:\n",
    "            b = float(1)\n",
    "                               \n",
    "        \n",
    "        for j in range(len(l_x)):\n",
    "            y = (((-a)*l_x[j]) - c)/b\n",
    "            l_y.append(y)\n",
    "        print('l_y = ',l_y, '\\n')\n",
    "    \n",
    "# ***************************************************** #\n",
    "    \n",
    "        Red_classified = []\n",
    "        Blue_classified = []\n",
    "\n",
    "        for i in range(len(r_x)):\n",
    "            for j in range(len(l_x)):\n",
    "                if r_x[i] == l_x[j] and r_y[i] > l_y[j]:\n",
    "                    Red_classified.append(Red[i])\n",
    "            \n",
    "                if b_x[i] == l_x[j] and b_y[i] < l_y[j]:\n",
    "                    Blue_classified.append(Blue[i])\n",
    "            \n",
    "        print(\"***Well classified points***\")\n",
    "        print('Red - ',Red_classified)\n",
    "        print('Blue - ',Blue_classified,'\\n')            \n",
    "\n",
    "        if len(Red_classified) == len(Red) and len(Blue_classified) == len(Blue):\n",
    "            print('***Yay! I AM THE LINE***')\n",
    "        else:\n",
    "            print('Oops! I am NOT the classifier line,\\nWhich classifies all the points,\\nPlease try another eqn. of line.')\n",
    "    \n",
    "        # Simulation - \n",
    "        import matplotlib.pyplot as plt\n",
    "        plt.plot(r_x, r_y, 'ro', label = 'Red')\n",
    "        plt.plot(b_x, b_y, 'bo', label = 'Blue')\n",
    "        plt.plot(l_x, l_y, 'grey')\n",
    "        plt.xlabel('x')\n",
    "        plt.ylabel('y')\n",
    "        plt.title('Finding the classifier line')\n",
    "        plt.legend()\n",
    "        plt.grid()\n",
    "        plt.show()"
   ]
  },
  {
   "cell_type": "code",
   "execution_count": 31,
   "metadata": {
    "scrolled": false
   },
   "outputs": [
    {
     "name": "stdout",
     "output_type": "stream",
     "text": [
      "r_x =  [1, 2, 4, 2, -1]\n",
      "r_y =  [1, 1, 2, 4, 4] \n",
      "\n",
      "b_x =  [-2, -1, -3, -3, 1]\n",
      "b_y =  [-1, -2, -2, -1, -3] \n",
      "\n",
      "l_x =  [-5, -4, -3, -2, -1, 0, 1, 2, 3, 4, 5]\n",
      "a,b,c values =  [['1', '+1', '+0'], ['1', '-1', '+0'], ['1', '+0', '-3'], ['0', '+1', '-0.5']]\n",
      "\n",
      "******Computing classifier line for LINE_1 -'1x+1y+0' ******\n",
      "l_y =  [5.0, 4.0, 3.0, 2.0, 1.0, -0.0, -1.0, -2.0, -3.0, -4.0, -5.0] \n",
      "\n",
      "***Well classified points***\n",
      "Red -  [(1, 1), (2, 1), (4, 2), (2, 4), (-1, 4)]\n",
      "Blue -  [(-2, -1), (-1, -2), (-3, -2), (-3, -1), (1, -3)] \n",
      "\n",
      "***Yay! I AM THE LINE***\n"
     ]
    },
    {
     "data": {
      "image/png": "[encoded data removed]",
      "text/plain": [
       "<Figure size 432x288 with 1 Axes>"
      ]
     },
     "metadata": {
      "needs_background": "light"
     },
     "output_type": "display_data"
    },
    {
     "name": "stdout",
     "output_type": "stream",
     "text": [
      "\n",
      "******Computing classifier line for LINE_2 -'1x-1y+0' ******\n",
      "l_y =  [-5.0, -4.0, -3.0, -2.0, -1.0, 0.0, 1.0, 2.0, 3.0, 4.0, 5.0] \n",
      "\n",
      "***Well classified points***\n",
      "Red -  [(2, 4), (-1, 4)]\n",
      "Blue -  [(-1, -2), (1, -3)] \n",
      "\n",
      "Oops! I am NOT the classifier line,\n",
      "Which classifies all the points,\n",
      "Please try another eqn. of line.\n"
     ]
    },
    {
     "data": {
      "image/png": "[encoded data removed]",
      "text/plain": [
       "<Figure size 432x288 with 1 Axes>"
      ]
     },
     "metadata": {
      "needs_background": "light"
     },
     "output_type": "display_data"
    },
    {
     "name": "stdout",
     "output_type": "stream",
     "text": [
      "\n",
      "******Computing classifier line for LINE_3 -'1x+0y-3' ******\n",
      "l_y =  [8.0, 7.0, 6.0, 5.0, 4.0, 3.0, 2.0, 1.0, 0.0, -1.0, -2.0] \n",
      "\n",
      "***Well classified points***\n",
      "Red -  [(4, 2), (2, 4)]\n",
      "Blue -  [(-2, -1), (-1, -2), (-3, -2), (-3, -1), (1, -3)] \n",
      "\n",
      "Oops! I am NOT the classifier line,\n",
      "Which classifies all the points,\n",
      "Please try another eqn. of line.\n"
     ]
    },
    {
     "data": {
      "image/png": "[encoded data removed]",
      "text/plain": [
       "<Figure size 432x288 with 1 Axes>"
      ]
     },
     "metadata": {
      "needs_background": "light"
     },
     "output_type": "display_data"
    },
    {
     "name": "stdout",
     "output_type": "stream",
     "text": [
      "\n",
      "******Computing classifier line for LINE_4 -'0x+1y-0.5' ******\n",
      "l_y =  [0.5, 0.5, 0.5, 0.5, 0.5, 0.5, 0.5, 0.5, 0.5, 0.5, 0.5] \n",
      "\n",
      "***Well classified points***\n",
      "Red -  [(1, 1), (2, 1), (4, 2), (2, 4), (-1, 4)]\n",
      "Blue -  [(-2, -1), (-1, -2), (-3, -2), (-3, -1), (1, -3)] \n",
      "\n",
      "***Yay! I AM THE LINE***\n"
     ]
    },
    {
     "data": {
      "image/png": "[encoded data removed]",
      "text/plain": [
       "<Figure size 432x288 with 1 Axes>"
      ]
     },
     "metadata": {
      "needs_background": "light"
     },
     "output_type": "display_data"
    }
   ],
   "source": [
    "Red= [(1,1),(2,1),(4,2),(2,4), (-1,4)]\n",
    "Blue= [(-2,-1),(-1,-2),(-3,-2),(-3,-1),(1,-3)]\n",
    "Lines=[\"1x+1y+0\",\"1x-1y+0\",\"1x+0y-3\",\"0x+1y-0.5\"]\n",
    "\n",
    "i_am_the_one(Red,Blue,Lines)"
   ]
  },
  {
   "cell_type": "code",
   "execution_count": 27,
   "metadata": {},
   "outputs": [],
   "source": [
    "# Function prints only 'YES', 'No' for classifying and non-classifying lines respectively.\n",
    "\n",
    "def clssifying_line(Red,Blue,Lines):\n",
    "    '''\n",
    "    This Function prints only 'YES' or 'No' for classifying and non-classifying lines respectively\n",
    "    '''\n",
    "\n",
    "    r_x = []\n",
    "    r_y = []\n",
    "    for j in range(len(Red)):\n",
    "        r_x.append(Red[j][0])\n",
    "        r_y.append(Red[j][1])\n",
    "\n",
    "    b_x = []\n",
    "    b_y = []\n",
    "    for j in range(len(Blue)):\n",
    "        b_x.append(Blue[j][0])\n",
    "        b_y.append(Blue[j][1])\n",
    "\n",
    "    a = []\n",
    "    for num in r_x:\n",
    "        a.append(num)\n",
    "    for num in r_y:\n",
    "        a.append(num)\n",
    "    for num in b_x:\n",
    "        a.append(num)\n",
    "    for num in b_y:\n",
    "        a.append(num)\n",
    "    max_ = max(a)\n",
    "    min_ = min(a)\n",
    "\n",
    "    l_x = []\n",
    "    for x in range(min_-2,max_+2):\n",
    "        l_x.append(x)\n",
    "    \n",
    "\n",
    "    lst = []\n",
    "    import re\n",
    "    for i in range(len(Lines)):        \n",
    "        r1 = re.findall(r\"[+-]?\\d\\.?\\d?\",Lines[i])      # I learnt regex from : https://www.youtube.com/watch?v=sa-TUpSx1JA\n",
    "        lst.append(r1)\n",
    "    \n",
    "\n",
    "# ***************************************************** #\n",
    "\n",
    "\n",
    "    for i in range(len(lst)):\n",
    "        \n",
    "        l_y = []\n",
    "        a = float(lst[i][0])\n",
    "        b = float(lst[i][1])\n",
    "        c = float(lst[i][2])\n",
    "        if b == 0:\n",
    "            b = float(1)\n",
    "                               \n",
    "        \n",
    "        for j in range(len(l_x)):\n",
    "            y = (((-a)*l_x[j]) - c)/b\n",
    "            l_y.append(y)\n",
    "        \n",
    "    \n",
    "# ***************************************************** #\n",
    "    \n",
    "        Red_classified = []\n",
    "        Blue_classified = []\n",
    "\n",
    "        for i in range(len(r_x)):\n",
    "            for j in range(len(l_x)):\n",
    "                if r_x[i] == l_x[j] and r_y[i] > l_y[j]:\n",
    "                    Red_classified.append(Red[i])\n",
    "            \n",
    "                if b_x[i] == l_x[j] and b_y[i] < l_y[j]:\n",
    "                    Blue_classified.append(Blue[i])          \n",
    "\n",
    "        if len(Red_classified) == len(Red) and len(Blue_classified) == len(Blue):\n",
    "            print('YES')\n",
    "        else:\n",
    "            print('No')"
   ]
  },
  {
   "cell_type": "code",
   "execution_count": 28,
   "metadata": {},
   "outputs": [
    {
     "name": "stdout",
     "output_type": "stream",
     "text": [
      "YES\n",
      "No\n",
      "No\n",
      "YES\n"
     ]
    }
   ],
   "source": [
    "Red= [(1,1),(2,1),(4,2),(2,4), (-1,4)]\n",
    "Blue= [(-2,-1),(-1,-2),(-3,-2),(-3,-1),(1,-3)]\n",
    "Lines=[\"1x+1y+0\",\"1x-1y+0\",\"1x+0y-3\",\"0x+1y-0.5\"]\n",
    "\n",
    "clssifying_line(Red,Blue,Lines)"
   ]
  },
  {
   "cell_type": "markdown",
   "metadata": {},
   "source": [
    "**Ofcourse, we can draw a classifier line using (w.T)*P as well...**\n",
    "* if (w.T)*P = +ve, then point lies in the same half space with w.\n",
    "* if (w.T)*P = -ve, then point lies in the opposite half space with w."
   ]
  },
  {
   "cell_type": "markdown",
   "metadata": {
    "colab_type": "text",
    "id": "_pJcGohbzQgO"
   },
   "source": [
    "<h3> Q7: Filling the missing values in the specified format</h3>\n",
    "\n",
    "You will be given a string with digits and '\\_'(missing value) symbols you have to replace the '\\_' symbols as explained \n",
    "\n",
    "<pre>\n",
    "Ex 1: _, _, _, 24 ==> 24/4, 24/4, 24/4, 24/4 i.e we. have distributed the 24 equally to all 4 places <br>\n",
    "Ex 2: 40, _, _, _, 60 ==> (60+40)/5,(60+40)/5,(60+40)/5,(60+40)/5,(60+40)/5 ==> 20, 20, 20, 20, 20 i.e. the sum of (60+40) is distributed qually to all 5 places<br>\n",
    "Ex 3: 80, _, _, _, _  ==> 80/5,80/5,80/5,80/5,80/5 ==> 16, 16, 16, 16, 16 i.e. the 80 is distributed qually to all 5 missing values that are right to it<br>\n",
    "Ex 4: _, _, 30, _, _, _, 50, _, _  \n",
    "==> we will fill the missing values from left to right \n",
    "    a. first we will distribute the 30 to left two missing values (10, 10, 10, _, _, _, 50, _, _)\n",
    "    b. now distribute the sum (10+50) missing values in between (10, 10, 12, 12, 12, 12, 12, _, _) \n",
    "    c. now we will distribute 12 to right side missing values (10, 10, 12, 12, 12, 12, 4, 4, 4)\n",
    "</pre>\n",
    "for a given string with comma seprate values, which will have both missing values numbers like ex: \"_, _, x, _, _, _\"\n",
    "you need fill the missing values\n",
    "\n",
    "Q: your program reads a string like ex: \"_, _, x, _, _, _\" and returns the filled sequence\n",
    "\n",
    "Ex: \n",
    "<pre>\n",
    "Input1: \"_,_,_,24\"\n",
    "Output1: 6,6,6,6\n",
    "\n",
    "Input2: \"40,_,_,_,60\"\n",
    "Output2: 20,20,20,20,20\n",
    "\n",
    "Input3: \"80,_,_,_,_\"\n",
    "Output3: 16,16,16,16,16\n",
    "\n",
    "Input4: \"_,_,30,_,_,_,50,_,_\"\n",
    "Output4: 10,10,12,12,12,12,4,4,4\n",
    "</pre>\n",
    "\n"
   ]
  },
  {
   "cell_type": "code",
   "execution_count": 0,
   "metadata": {
    "colab": {},
    "colab_type": "code",
    "id": "91z7aHTozQgO"
   },
   "outputs": [],
   "source": [
    "# write your python code here\n",
    "# you can take the above example as sample input for your program to test\n",
    "# it should work for any general input try not to hard code for only given input strings\n",
    "\n",
    "\n",
    "# you can free to change all these codes/structure\n",
    "def curve_smoothing(string):\n",
    "    # your code\n",
    "    return #list of values\n",
    "\n",
    "S=  \"_,_,30,_,_,_,50,_,_\"\n",
    "smoothed_values= curve_smoothing(S)\n",
    "print(# print above values)"
   ]
  },
  {
   "cell_type": "code",
   "execution_count": 16,
   "metadata": {},
   "outputs": [],
   "source": [
    "def curve_smoothing(r1):\n",
    "    '''\n",
    "    This function is special purpose function, which satifies below 4 condtions perfectly,\n",
    "    and returns smoothed curve values.  \n",
    "    It fills all the blanks,\n",
    "    1. If r1 Starts with '_' and Ends with a number.\n",
    "    2. If r1 Starts and ends with a number.\n",
    "    3. If r1 Starts with number and ends with '_'.\n",
    "    4. If r1 Starts with '_' and ends with '_'.\n",
    "    where r1 is string of blanks and two digit numbers seperated by comma.\n",
    "    '''\n",
    "    result = []\n",
    "    lst = []\n",
    "    for j in range(100):\n",
    "        for k in range(100):\n",
    "        \n",
    "            # for case no.1 - If r1 Starts with '_' and Ends with num.\n",
    "        \n",
    "            if r1[-1] == str(j) and r1[0] == '_':\n",
    "        \n",
    "                for i in range(len(r1)):\n",
    "                    if r1[i] == str(j):\n",
    "                        a = int(r1[i])/(i+1)\n",
    "                        for i in range(len(r1)):\n",
    "                            result.append(a)\n",
    "            \n",
    "                break\n",
    "                \n",
    "            # for case no.2 - If r1 Starts and ends with num.\n",
    "            \n",
    "            elif r1[-1] == str(j) and r1[0] == str(k):\n",
    "                sum = int(r1[-1]) + int(r1[0])\n",
    "                a = sum/len(r1)\n",
    "                for i in range(len(r1)):\n",
    "                    result.append(a)\n",
    "            \n",
    "                break\n",
    "            \n",
    "            # for case no.3 - If r1 Starts with num and ends with '_'.\n",
    "            \n",
    "            elif r1[-1] == '_' and r1[0] == str(j):\n",
    "                a = (int(r1[0])/len(r1))\n",
    "                for i in range(len(r1)):\n",
    "                    result.append(a)\n",
    "                break\n",
    "            \n",
    "            \n",
    "    # for case no.4 - If r1 Starts with '_' and ends with '_'.        \n",
    "    if r1[-1] == '_' and r1[0] == '_':\n",
    "\n",
    "        for j in range(100):\n",
    "            for a,b in enumerate(r1):\n",
    "                if b == str(j):\n",
    "                    lst.append([a, b])\n",
    "                    break\n",
    "    \n",
    "        x = int(lst[0][1])/(lst[0][0]+1)\n",
    "        for i in range((lst[0][0])):\n",
    "            result.append(x)\n",
    "\n",
    "        y =(x+int(lst[1][1]))/((lst[1][0]-lst[0][0])+1)\n",
    "        for i in  range(((lst[1][0]-lst[0][0]))):\n",
    "            result.append(y)\n",
    "\n",
    "        z = int(y)/(len(r1)-lst[1][0])\n",
    "        for i in  range((len(r1)-lst[1][0])):\n",
    "            result.append(z)\n",
    "    print('smoothed_values =',result)"
   ]
  },
  {
   "cell_type": "code",
   "execution_count": 19,
   "metadata": {},
   "outputs": [
    {
     "name": "stdout",
     "output_type": "stream",
     "text": [
      "smoothed_values = [6.0, 6.0, 6.0, 6.0]\n",
      "smoothed_values = [20.0, 20.0, 20.0, 20.0, 20.0]\n",
      "smoothed_values = [16.0, 16.0, 16.0, 16.0, 16.0]\n",
      "smoothed_values = [10.0, 10.0, 12.0, 12.0, 12.0, 12.0, 4.0, 4.0, 4.0]\n"
     ]
    }
   ],
   "source": [
    "import re\n",
    "S1 = \"_,_,_,24\"\n",
    "S2 = \"40,_,_,_,60\"\n",
    "S3 = \"80,_,_,_,_\"\n",
    "S4 =  \"_,_,30,_,_,_,50,_,_\"\n",
    "\n",
    "r1 = re.findall(r\"[_]|[0-9]\\d\", S1)               # I learnt regex from : https://www.youtube.com/watch?v=sa-TUpSx1JA \n",
    "curve_smoothing(r1)\n",
    "r1 = re.findall(r\"[_]|[0-9]\\d\", S2)\n",
    "curve_smoothing(r1)\n",
    "r1 = re.findall(r\"[_]|[0-9]\\d\", S3)\n",
    "curve_smoothing(r1)\n",
    "r1 = re.findall(r\"[_]|[0-9]\\d\", S4)\n",
    "curve_smoothing(r1)"
   ]
  },
  {
   "cell_type": "markdown",
   "metadata": {
    "colab_type": "text",
    "id": "RRsdP3MvzQgR"
   },
   "source": [
    "<h3> Q8: Find the probabilities</h3>\n",
    "\n",
    "You will be given a list of lists, each sublist will be of length 2 i.e. [[x,y],[p,q],[l,m]..[r,s]]\n",
    "consider its like a martrix of n rows and two columns\n",
    "1. The first column F will contain only 5 uniques values (F1, F2, F3, F4, F5)\n",
    "2. The second column S will contain only 3 uniques values (S1, S2, S3)\n",
    "<pre>\n",
    "your task is to find\n",
    "a. Probability of P(F=F1|S==S1), P(F=F1|S==S2), P(F=F1|S==S3)\n",
    "b. Probability of P(F=F2|S==S1), P(F=F2|S==S2), P(F=F2|S==S3)\n",
    "c. Probability of P(F=F3|S==S1), P(F=F3|S==S2), P(F=F3|S==S3)\n",
    "d. Probability of P(F=F4|S==S1), P(F=F4|S==S2), P(F=F4|S==S3)\n",
    "e. Probability of P(F=F5|S==S1), P(F=F5|S==S2), P(F=F5|S==S3)\n",
    "</pre>\n",
    "Ex:\n",
    "\n",
    "<pre>\n",
    "[[F1,S1],[F2,S2],[F3,S3],[F1,S2],[F2,S3],[F3,S2],[F2,S1],[F4,S1],[F4,S3],[F5,S1]]\n",
    "\n",
    "a. P(F=F1|S==S1)=1/4, P(F=F1|S==S2)=1/3, P(F=F1|S==S3)=0/3\n",
    "b. P(F=F2|S==S1)=1/4, P(F=F2|S==S2)=1/3, P(F=F2|S==S3)=1/3\n",
    "c. P(F=F3|S==S1)=0/4, P(F=F3|S==S2)=1/3, P(F=F3|S==S3)=1/3\n",
    "d. P(F=F4|S==S1)=1/4, P(F=F4|S==S2)=0/3, P(F=F4|S==S3)=1/3\n",
    "e. P(F=F5|S==S1)=1/4, P(F=F5|S==S2)=0/3, P(F=F5|S==S3)=0/3\n",
    "</pre>\n",
    "\n"
   ]
  },
  {
   "cell_type": "code",
   "execution_count": 10,
   "metadata": {
    "colab": {},
    "colab_type": "code",
    "id": "YACLYXRazQgR"
   },
   "outputs": [],
   "source": [
    "def compute_conditional_probabilites(A, F, S):\n",
    "    '''\n",
    "    This function prints conditional probability for provided conditions from given array\n",
    "    A is array with two columns\n",
    "    F is single value consist from Feature1 or Column1 of array(A)\n",
    "    S is single value condition from Feature2 or Column2 of array(A)\n",
    "    '''\n",
    "    cnt = 0\n",
    "    total = 0\n",
    "\n",
    "    for i in range(len(A)):\n",
    "        if A[i][0] == F and A[i][1] == S:\n",
    "            cnt += 1\n",
    "        \n",
    "    for i in range(len(A)):    \n",
    "        if A[i][1] == S:\n",
    "            total += 1\n",
    "            \n",
    "    print('P(F={}|S=={}) ='.format(F, S), '{}/{}'.format(cnt, total))"
   ]
  },
  {
   "cell_type": "code",
   "execution_count": 11,
   "metadata": {},
   "outputs": [
    {
     "name": "stdout",
     "output_type": "stream",
     "text": [
      "P(F=F1|S==S1) = 1/4\n",
      "------------------------------------\n",
      "P(F=F1|S==S1) = 1/4\n",
      "P(F=F1|S==S2) = 1/3\n",
      "P(F=F1|S==S3) = 0/3\n",
      "------------------------------------\n",
      "P(F=F2|S==S1) = 1/4\n",
      "P(F=F2|S==S2) = 1/3\n",
      "P(F=F2|S==S3) = 1/3\n",
      "------------------------------------\n",
      "P(F=F3|S==S1) = 0/4\n",
      "P(F=F3|S==S2) = 1/3\n",
      "P(F=F3|S==S3) = 1/3\n",
      "------------------------------------\n",
      "P(F=F4|S==S1) = 1/4\n",
      "P(F=F4|S==S2) = 0/3\n",
      "P(F=F4|S==S3) = 1/3\n",
      "------------------------------------\n",
      "P(F=F5|S==S1) = 1/4\n",
      "P(F=F5|S==S2) = 0/3\n",
      "P(F=F5|S==S3) = 0/3\n"
     ]
    }
   ],
   "source": [
    "A = [['F1','S1'],['F2','S2'],['F3','S3'],['F1','S2'],['F2','S3'],['F3','S2'],['F2','S1'],['F4','S1'],['F4','S3'],['F5','S1']]\n",
    "F = 'F1'            # Enter any value from column -1\n",
    "S = 'S1'            # Enter any value from column -2\n",
    "\n",
    "compute_conditional_probabilites(A, F, S)\n",
    "print('------------------------------------')\n",
    "\n",
    "F = 'F1'; S = 'S1'; compute_conditional_probabilites(A, F, S)\n",
    "F = 'F1'; S = 'S2'; compute_conditional_probabilites(A, F, S)\n",
    "F = 'F1'; S = 'S3'; compute_conditional_probabilites(A, F, S)\n",
    "print('------------------------------------')\n",
    "\n",
    "F = 'F2'; S = 'S1'; compute_conditional_probabilites(A, F, S)\n",
    "F = 'F2'; S = 'S2'; compute_conditional_probabilites(A, F, S)\n",
    "F = 'F2'; S = 'S3'; compute_conditional_probabilites(A, F, S)\n",
    "print('------------------------------------')\n",
    "\n",
    "F = 'F3'; S = 'S1'; compute_conditional_probabilites(A, F, S)\n",
    "F = 'F3'; S = 'S2'; compute_conditional_probabilites(A, F, S)\n",
    "F = 'F3'; S = 'S3'; compute_conditional_probabilites(A, F, S)\n",
    "print('------------------------------------')\n",
    "\n",
    "F = 'F4'; S = 'S1'; compute_conditional_probabilites(A, F, S)\n",
    "F = 'F4'; S = 'S2'; compute_conditional_probabilites(A, F, S)\n",
    "F = 'F4'; S = 'S3'; compute_conditional_probabilites(A, F, S)\n",
    "print('------------------------------------')\n",
    "\n",
    "F = 'F5'; S = 'S1'; compute_conditional_probabilites(A, F, S)\n",
    "F = 'F5'; S = 'S2'; compute_conditional_probabilites(A, F, S)\n",
    "F = 'F5'; S = 'S3'; compute_conditional_probabilites(A, F, S)"
   ]
  },
  {
   "cell_type": "markdown",
   "metadata": {
    "colab_type": "text",
    "id": "uI5OefuszQgT"
   },
   "source": [
    "<h3> Q9: Operations on sentences </h3>\n",
    "\n",
    "You will be given two sentances S1, S2 your task is to find \n",
    "<pre>\n",
    "a. Number of common words between S1, S2\n",
    "b. Words in S1 but not in S2\n",
    "c. Words in S2 but not in S1\n",
    "</pre>\n",
    "\n",
    "Ex: \n",
    "<pre>\n",
    "S1= \"the first column F will contain only 5 unique values\"\n",
    "S2= \"the second column S will contain only 3 unique values\"\n",
    "Output:\n",
    "a. 7\n",
    "b. ['first','F','5']\n",
    "c. ['second','S','3']\n",
    "</pre>"
   ]
  },
  {
   "cell_type": "code",
   "execution_count": 32,
   "metadata": {
    "colab": {},
    "colab_type": "code",
    "id": "6efRp-EizQgU"
   },
   "outputs": [],
   "source": [
    "def string_features(S1, S2):\n",
    "    '''\n",
    "    This function takes two strings(S1 and S2) and returs,\n",
    "    1. number of common words in in S1 and S2\n",
    "    2. Words in S1 but not in S2\n",
    "    3. Words in S2 but not in S1\n",
    "    '''\n",
    "    \n",
    "    s1 = S1.split(' ')\n",
    "    s2 = S2.split(' ')\n",
    "    \n",
    "    A = set(s1)\n",
    "    B = set(s2)\n",
    "    \n",
    "    print('a. Number of common words between S1, S2 =', len(A&B))\n",
    "    print('b. Words in S1 but not in S2 = ',list(A-B))\n",
    "    print('c. Words in S2 but not in S1 = ', list(B-A))"
   ]
  },
  {
   "cell_type": "code",
   "execution_count": 33,
   "metadata": {},
   "outputs": [
    {
     "name": "stdout",
     "output_type": "stream",
     "text": [
      "a. Number of common words between S1, S2 = 7\n",
      "b. Words in S1 but not in S2 =  ['5', 'first', 'F']\n",
      "c. Words in S2 but not in S1 =  ['S', 'second', '3']\n"
     ]
    }
   ],
   "source": [
    "S1= \"the first column F will contain only 5 unique values\"\n",
    "S2= \"the second column S will contain only 3 unique values\"\n",
    "string_features(S1, S2)"
   ]
  },
  {
   "cell_type": "markdown",
   "metadata": {
    "colab_type": "text",
    "id": "tSajhVSIzQgV"
   },
   "source": [
    "<h3> Q10: Error Function</h3>\n",
    "\n",
    "You will be given a list of lists, each sublist will be of length 2 i.e. [[x,y],[p,q],[l,m]..[r,s]]\n",
    "consider its like a martrix of n rows and two columns\n",
    "\n",
    "a. the first column Y will contain interger values <br>\n",
    "b. the second column $Y_{score}$ will be having float values <br>\n",
    "Your task is to find the value of $f(Y,Y_{score}) = -1*\\frac{1}{n}\\Sigma_{for each Y,Y_{score} pair}(Ylog10(Y_{score})+(1-Y)log10(1-Y_{score}))$ here n is the number of rows in the matrix\n",
    "<pre>\n",
    "Ex:\n",
    "[[1, 0.4], [0, 0.5], [0, 0.9], [0, 0.3], [0, 0.6], [1, 0.1], [1, 0.9], [1, 0.8]]\n",
    "output:\n",
    "0.44982\n",
    "</pre>\n",
    "$\\frac{-1}{8}\\cdot((1\\cdot log_{10}(0.4)+0\\cdot log_{10}(0.6))+(0\\cdot log_{10}(0.5)+1\\cdot log_{10}(0.5)) + ... + (1\\cdot log_{10}(0.8)+0\\cdot log_{10}(0.2)) )$"
   ]
  },
  {
   "cell_type": "code",
   "execution_count": 12,
   "metadata": {},
   "outputs": [],
   "source": [
    "def compute_log_loss(A):\n",
    "    '''\n",
    "    This function results log loss for given (nx2) matrix using log loss formula.\n",
    "    '''\n",
    "    import math\n",
    "    n = len(A)\n",
    "    lst = []\n",
    "\n",
    "    for i in range(len(A)):\n",
    "        Y = A[i][0]\n",
    "        print(Y, end = ', ')        # to debug whole code step-by-step, printing this section..\n",
    "        Y_s = A[i][1]\n",
    "        print(Y_s)\n",
    "        Error = (Y*(math.log10(Y_s))) + ((1-Y)*(math.log10(1-Y_s)))\n",
    "        lst.append(Error)\n",
    "    \n",
    "    print('\\n',lst)                 # to debug whole code step-by-step, printing this section..still not found anything wrong in the code..\n",
    "    print('\\nError =',-1*sum(lst)/n)"
   ]
  },
  {
   "cell_type": "code",
   "execution_count": 13,
   "metadata": {
    "scrolled": true
   },
   "outputs": [
    {
     "name": "stdout",
     "output_type": "stream",
     "text": [
      "1, 0.4\n",
      "0, 0.5\n",
      "0, 0.9\n",
      "0, 0.3\n",
      "0, 0.6\n",
      "1, 0.1\n",
      "1, 0.9\n",
      "1, 0.8\n",
      "\n",
      " [-0.3979400086720376, -0.3010299956639812, -1.0, -0.1549019599857432, -0.3979400086720376, -1.0, -0.045757490560675115, -0.09691001300805639]\n",
      "\n",
      "Error = 0.42430993457031635\n"
     ]
    }
   ],
   "source": [
    "A = [[1, 0.4], [0, 0.5], [0, 0.9], [0, 0.3], [0, 0.6], [1, 0.1], [1, 0.9], [1, 0.8]]\n",
    "loss = compute_log_loss(A)\n",
    "loss"
   ]
  }
 ],
 "metadata": {
  "colab": {
   "name": "2. Python Mandatory Assignment.ipynb",
   "provenance": [],
   "version": "0.3.2"
  },
  "kernelspec": {
   "display_name": "Python 3 (ipykernel)",
   "language": "python",
   "name": "python3"
  },
  "language_info": {
   "codemirror_mode": {
    "name": "ipython",
    "version": 3
   },
   "file_extension": ".py",
   "mimetype": "text/x-python",
   "name": "python",
   "nbconvert_exporter": "python",
   "pygments_lexer": "ipython3",
   "version": "3.9.7"
  }
 },
 "nbformat": 4,
 "nbformat_minor": 1
}
